{
 "cells": [
  {
   "cell_type": "code",
   "execution_count": null,
   "id": "c1072fbc",
   "metadata": {},
   "outputs": [],
   "source": [
    "import pandas as pd\n",
    "import torch\n",
    "from transformers import AutoTokenizer, AutoModelForSequenceClassification\n",
    "\n",
    "# Load pre-trained tokenizer and model\n",
    "tokenizer = AutoTokenizer.from_pretrained(\"textattack/roberta-base-MRPC\")\n",
    "model = AutoModelForSequenceClassification.from_pretrained(\"textattack/roberta-base-MRPC\")\n",
    "\n",
    "# Load CSV file containing C++ codes and labels\n",
    "data = pd.read_csv(\"path/to/csv_file.csv\")"
   ]
  },
  {
   "cell_type": "code",
   "execution_count": null,
   "id": "69b4a126",
   "metadata": {},
   "outputs": [],
   "source": [
    "\n",
    "# Tokenize the C++ codes\n",
    "inputs = tokenizer(list(data['code1']), list(data['code2']), padding=True, truncation=True, return_tensors='pt')\n",
    "\n",
    "# Predict the plagiarism score using the pre-trained model\n",
    "outputs = model(**inputs)\n",
    "scores = torch.softmax(outputs.logits, dim=1)[:, 1].tolist()\n",
    "\n",
    "# Add the plagiarism scores to the dataframe\n",
    "data['score'] = scores\n",
    "\n",
    "# Print the dataframe\n",
    "print(data)"
   ]
  }
 ],
 "metadata": {
  "kernelspec": {
   "display_name": "Python 3 (ipykernel)",
   "language": "python",
   "name": "python3"
  },
  "language_info": {
   "codemirror_mode": {
    "name": "ipython",
    "version": 3
   },
   "file_extension": ".py",
   "mimetype": "text/x-python",
   "name": "python",
   "nbconvert_exporter": "python",
   "pygments_lexer": "ipython3",
   "version": "3.9.12"
  }
 },
 "nbformat": 4,
 "nbformat_minor": 5
}
